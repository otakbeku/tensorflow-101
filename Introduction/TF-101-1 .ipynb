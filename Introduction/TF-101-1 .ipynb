{
 "cells": [
  {
   "cell_type": "markdown",
   "metadata": {},
   "source": [
    "# Tensorflow 101: Introduction to low-level API\n",
    "\n",
    "*Prequisites*:\n",
    "1. Sudah menginstal tensorflow\n",
    "2. Minat dan semangat\n",
    "3. Sudah dengerin kami presentasi tentang pengantar dari tensorflow bagian pertama\n",
    "\n",
    "\n",
    "### Cek *dependencies*"
   ]
  },
  {
   "cell_type": "code",
   "execution_count": 1,
   "metadata": {},
   "outputs": [],
   "source": [
    "import tensorflow as tf\n",
    "import numpy as np"
   ]
  },
  {
   "cell_type": "code",
   "execution_count": 2,
   "metadata": {},
   "outputs": [
    {
     "data": {
      "text/plain": [
       "'1.11.0'"
      ]
     },
     "execution_count": 2,
     "metadata": {},
     "output_type": "execute_result"
    }
   ],
   "source": [
    "tf.__version__"
   ]
  },
  {
   "cell_type": "markdown",
   "metadata": {},
   "source": [
    "*seems okay*\n",
    "\n",
    "# Simple Computational Graph\n",
    "\n",
    "\n",
    "Membuat grafik penjumlahan. **ingat: build then running**. Pertama yang perlu dilakukan adalah membuat dahulu *computational graph*nya.\n",
    "\n",
    "Namun untuk kesempatan pertama ini, kita mencoba dengan menggunakan fungsi ``tf.constant`` untuk membuat konstanta.\n",
    "\n",
    "\n",
    "### tf.constant\n",
    "```\n",
    "tf.constant(\n",
    "    value,\n",
    "    dtype=None,\n",
    "    shape=None,\n",
    "    name='Const',\n",
    "    verify_shape=False\n",
    ")\n",
    "```\n",
    "\n",
    "\n",
    "Untuk membuat konstanta. Hasilnya adalah tensor dengan nilai yang sesuai dengan ``dtype`` dan bernilai sama dengan ``value`` dengan ukuran (opsional) dengan ``shape``\n",
    "\n",
    "[Dokumentasi dalam bentuk kode](https://github.com/tensorflow/tensorflow/blob/a6d8ffae097d0132989ae4688d224121ec6d8f35/tensorflow/python/framework/constant_op.py#L118)\n",
    "\n",
    "[Dokumentasi dari tf](https://www.tensorflow.org/api_docs/python/tf/constant)"
   ]
  },
  {
   "cell_type": "code",
   "execution_count": 8,
   "metadata": {},
   "outputs": [
    {
     "data": {
      "text/plain": [
       "{'_op': <tf.Operation 'Const_5' type=Const>,\n",
       " '_value_index': 0,\n",
       " '_dtype': tf.int32,\n",
       " '_shape_val': None,\n",
       " '_consumers': [],\n",
       " '_id': 7}"
      ]
     },
     "execution_count": 8,
     "metadata": {},
     "output_type": "execute_result"
    }
   ],
   "source": [
    "tensor = tf.constant([1, 2, 3, 4, 5, 6, 7])\n",
    "tensor.__dict__"
   ]
  },
  {
   "cell_type": "code",
   "execution_count": 10,
   "metadata": {},
   "outputs": [
    {
     "name": "stdout",
     "output_type": "stream",
     "text": [
      "Tensor(\"Const_5:0\", shape=(7,), dtype=int32)\n",
      "<class 'tensorflow.python.framework.ops.Tensor'>\n"
     ]
    }
   ],
   "source": [
    "print(tensor) # Tensor dengan konstanta nilai [1 2 3 4 5 6 7]\n",
    "print(type(tensor))"
   ]
  },
  {
   "cell_type": "markdown",
   "metadata": {},
   "source": [
    "Dari hasil cetak di atas tidak mengnampilkan nilai karena sebenarnya pada tf yang dibangung ada *computational graph*nya. Objek ``Tensor`` tersebut hanya merepresentasikan model yang sedang dirancang"
   ]
  },
  {
   "cell_type": "code",
   "execution_count": 12,
   "metadata": {},
   "outputs": [
    {
     "name": "stdout",
     "output_type": "stream",
     "text": [
      "Tensor(\"var_a:0\", shape=(2,), dtype=float32)\n"
     ]
    }
   ],
   "source": [
    "var_a = tf.constant([1.0,2.0], dtype=tf.float32, name='var_a')\n",
    "print(var_a)"
   ]
  },
  {
   "cell_type": "markdown",
   "metadata": {},
   "source": [
    "Oke, setelah paham dengan ``tf.constant`` maka selanjutnya kita bisa membuat *graph*nya\n",
    "\n",
    "## Build the graph"
   ]
  },
  {
   "cell_type": "code",
   "execution_count": 13,
   "metadata": {},
   "outputs": [
    {
     "name": "stdout",
     "output_type": "stream",
     "text": [
      "Tensor(\"Const_6:0\", shape=(), dtype=float32)\n",
      "Tensor(\"Const_7:0\", shape=(), dtype=float32)\n",
      "Tensor(\"add_1:0\", shape=(), dtype=float32)\n"
     ]
    }
   ],
   "source": [
    "a = tf.constant(5.0, dtype=tf.float32)\n",
    "b = tf.constant(9.0) # Secara tidak langsung punya tipe data yang sama\n",
    "total = a + b # tf bisa langsung dijumlah\n",
    "print(a)\n",
    "print(b)\n",
    "print(total)"
   ]
  },
  {
   "cell_type": "markdown",
   "metadata": {},
   "source": [
    "### Tensorboard\n",
    "\n",
    "Sebuah fungsi yang mempermudah pengguna untuk melihat graph yang telah dibuat.\n",
    "\n",
    "Untuk menjalankannya, ketik\n",
    "\n",
    "``` tensorboard --logdir .```\n",
    "\n",
    "pada terminal/cmd **setelah menjalankan potongan program dibawah**"
   ]
  },
  {
   "cell_type": "code",
   "execution_count": 15,
   "metadata": {},
   "outputs": [],
   "source": [
    "writer = tf.summary.FileWriter('.') # Nama berkas dapat diganti, \n",
    "# begitu juga dengan shell command-nya\n",
    "writer.add_graph(tf.get_default_graph())"
   ]
  },
  {
   "cell_type": "markdown",
   "metadata": {},
   "source": [
    "Buka ```localhost:6006``` (secara *default*) maka akan didapati gambar kurang lebih seperti ini:\n",
    "\n",
    "![sim_graph](sim_com_gr_tf.PNG \"sim graph\")\n",
    "\n",
    "\n",
    "## *Compile! (Run the graph)*"
   ]
  },
  {
   "cell_type": "code",
   "execution_count": 16,
   "metadata": {},
   "outputs": [
    {
     "name": "stdout",
     "output_type": "stream",
     "text": [
      "14.0\n"
     ]
    }
   ],
   "source": [
    "sess = tf.Session()\n",
    "print(sess.run(total))"
   ]
  },
  {
   "cell_type": "markdown",
   "metadata": {},
   "source": [
    "Pada saat dijalankan, semua ``tf.Tensor`` hanya memilki nilai tunggal (satu jenis nilai) meski telah menggunakan fungsi random. Sebagai contoh kita memanggil fungsi ``tf.random_uniform`` yang akan menghasil vektor dengan 5 elemen kemudian menjalakan *session*nya."
   ]
  },
  {
   "cell_type": "code",
   "execution_count": 17,
   "metadata": {},
   "outputs": [
    {
     "name": "stdout",
     "output_type": "stream",
     "text": [
      "[0.65778553 0.98762953 0.7534785  0.10752916 0.70757294]\n",
      "[0.7312466  0.611864   0.42223382 0.43405056 0.06553853]\n",
      "(array([1.7752395, 1.0011215, 1.6191481, 1.0304488, 1.2724067],\n",
      "      dtype=float32), array([2.7752395, 2.0011215, 2.6191483, 2.030449 , 2.2724066],\n",
      "      dtype=float32), array([3.7752395, 3.0011215, 3.6191483, 3.030449 , 3.2724066],\n",
      "      dtype=float32))\n"
     ]
    }
   ],
   "source": [
    "vec = tf.random_uniform(shape=(5,))\n",
    "out1 = vec + 1\n",
    "out2 = vec + 2\n",
    "out3 = vec + 3\n",
    "print(sess.run(vec))\n",
    "print(sess.run(vec))\n",
    "print(sess.run((out1, out2, out3))) # single run"
   ]
  },
  {
   "cell_type": "markdown",
   "metadata": {},
   "source": [
    "Dari hasil diatas menunjukkan bahwa dalam *single run* nilai yang dihasilkan dari ``tf.random_uniform`` hanya memiliki satu jenis nilai.\n",
    "\n",
    "\n",
    "**Jadi ini aja?** *ngga*\n",
    "\n",
    "#### Latihan 1\n",
    "Kalau sudah paham dengan penggunaan konstanta tadi, coba kerjakan latihan berikut:\n",
    "1. Buat graph perkalian array/list\n",
    "2. Apa yang dilakukan oleh potongan script berikut? **Jangan dahulu dijalankan**\n",
    "\n",
    "```\n",
    "x = tf.constant([1, 2, 3])\n",
    "x_sum = tf.reduce_sum(x)\n",
    "result = x_sum/tf.size(x)\n",
    "```\n",
    "\n",
    "3. Jalankan program diatas untuk melihat hasilnya! *feel free*, buat ganti nilainya"
   ]
  },
  {
   "cell_type": "code",
   "execution_count": 30,
   "metadata": {},
   "outputs": [],
   "source": [
    "# Nomor 3 disini"
   ]
  },
  {
   "cell_type": "markdown",
   "metadata": {},
   "source": [
    "### *Feeding with tf.placeholder* (Ngasih makan; kurang lebih) \n",
    "\n",
    "Ngga cuma dengan konstanta aja, graph yang dirancang juga bisa menerima input menggunakan fungsi ``tf.placeholder``. Fungsi ini mirip dengan membuat fungsi pada python. Keterangannya sebagai berikut:\n",
    "\n",
    "Sebagai contoh:"
   ]
  },
  {
   "cell_type": "code",
   "execution_count": 34,
   "metadata": {},
   "outputs": [],
   "source": [
    "# Membut graph perkalian\n",
    "var_a = tf.placeholder(name='A', dtype=tf.float32)\n",
    "var_b = tf.placeholder(name='B', dtype=tf.float32)\n",
    "result = var_a*var_b"
   ]
  },
  {
   "cell_type": "markdown",
   "metadata": {},
   "source": [
    "Sekarang coba isi dengan nilai. Yang perlu diperhatikan, saat mengisi ``feed_dict``, nilai ``key`` yang ditulis adalah nama dari *placeholder*nya."
   ]
  },
  {
   "cell_type": "code",
   "execution_count": 37,
   "metadata": {},
   "outputs": [
    {
     "name": "stdout",
     "output_type": "stream",
     "text": [
      "20.0\n"
     ]
    }
   ],
   "source": [
    "print(sess.run(result, feed_dict={var_a: 4, var_b: 5}))"
   ]
  },
  {
   "cell_type": "code",
   "execution_count": 43,
   "metadata": {},
   "outputs": [
    {
     "name": "stdout",
     "output_type": "stream",
     "text": [
      "A_2:0\n",
      "B_1:0\n"
     ]
    }
   ],
   "source": [
    "# Cara lain. Cari tahu dahulu nama dari masing-masing placeholder\n",
    "print(var_a.name)\n",
    "print(var_b.name)"
   ]
  },
  {
   "cell_type": "code",
   "execution_count": 44,
   "metadata": {},
   "outputs": [
    {
     "name": "stdout",
     "output_type": "stream",
     "text": [
      "20.0\n"
     ]
    }
   ],
   "source": [
    "print(sess.run(result, feed_dict={sess.graph.get_tensor_by_name('A_2:0'): 4, \n",
    "                                  sess.graph.get_tensor_by_name('B_1:0'): 5}))"
   ]
  },
  {
   "cell_type": "code",
   "execution_count": 46,
   "metadata": {},
   "outputs": [
    {
     "name": "stdout",
     "output_type": "stream",
     "text": [
      "[  3.  12. 445.]\n"
     ]
    }
   ],
   "source": [
    "# Input array\n",
    "print(sess.run(result, feed_dict={var_a: [3, 4, 5], var_b: [1, 3, 89]}))"
   ]
  },
  {
   "cell_type": "markdown",
   "metadata": {},
   "source": [
    "**Paham?** *sekarang soal lagi*\n",
    "\n",
    "#### Latihan 2\n",
    "Fungsi nomor 1 & 2 di latihan sebelumnya dibuat agar dapat menerima input dari *user* menggunakan fungsi ``input()`` bawaan dari python!"
   ]
  },
  {
   "cell_type": "code",
   "execution_count": 47,
   "metadata": {},
   "outputs": [],
   "source": [
    "# Kerjakan disini!1!11!!!"
   ]
  },
  {
   "cell_type": "markdown",
   "metadata": {},
   "source": [
    "### Datasets\n",
    "\n",
    "Kalau tadi sudah paham dengan fungsi dari ``tf.placeholder`` untuk melakukan eksperimen, maka ada cara lain yang lebih 'dibenarkan' oleh *tensorflow* untuk melakukan *streaming data* ke graph.\n",
    "\n",
    "Langkah kerja dari *streaming data* menggunakan `tf.data`:\n",
    "1. Buat variabel *slices* atau iterator untuk memotong data\n",
    "2. Panggil iterator ke session\n",
    "3. Ketika sudah mencapai akhir dari baris, maka akan menghasilkan error. Oleh sebab itu harus menggunakan metode *try-catch-exception*\n",
    "4. Langkah 2-3 dilakukan dalam perulangan *while* (umumnya)"
   ]
  },
  {
   "cell_type": "code",
   "execution_count": 57,
   "metadata": {},
   "outputs": [
    {
     "name": "stdout",
     "output_type": "stream",
     "text": [
      "Iterasi ke- 0\n",
      "[ 2 49]\n",
      "Iterasi ke- 1\n",
      "[ 4 78]\n",
      "Iterasi ke- 2\n",
      "[5 6]\n",
      "Iterasi ke- 3\n",
      "[ 9 12]\n",
      "Iterasi ke- 4\n"
     ]
    }
   ],
   "source": [
    "data_saya = [\n",
    "    [2, 49,],\n",
    "    [4, 78,],\n",
    "    [5, 6,],\n",
    "    [9, 12,],\n",
    "]\n",
    "slices = tf.data.Dataset.from_tensor_slices(data_saya)\n",
    "next_item = slices.make_one_shot_iterator().get_next()\n",
    "count =0\n",
    "while True:\n",
    "  try:\n",
    "    print('Iterasi ke-', count)\n",
    "    print(sess.run(next_item))\n",
    "    count+=1\n",
    "  except tf.errors.OutOfRangeError:\n",
    "    break"
   ]
  },
  {
   "cell_type": "markdown",
   "metadata": {},
   "source": [
    "Contoh berikut ini jika dataset bergantung pada suatu *state* atau keadaan. Misal harus menghasilkan nilai random"
   ]
  },
  {
   "cell_type": "code",
   "execution_count": 55,
   "metadata": {},
   "outputs": [
    {
     "name": "stdout",
     "output_type": "stream",
     "text": [
      "Iterasi ke- 1\n",
      "[ 1.5079861   0.27277315 -0.8801809 ]\n",
      "Iterasi ke- 2\n",
      "[1.900315  1.7986093 0.8575732]\n",
      "Iterasi ke- 3\n",
      "[-1.5248599   0.62955153  0.757552  ]\n",
      "Iterasi ke- 4\n",
      "[-0.9588354 -0.9192278 -0.3706548]\n",
      "Iterasi ke- 5\n",
      "[-0.65123796 -0.09616945 -0.97642946]\n",
      "Iterasi ke- 6\n",
      "[-2.1680052 -2.0397053 -1.28295  ]\n",
      "Iterasi ke- 7\n",
      "[ 0.2897661   0.82763803 -0.66821504]\n",
      "Iterasi ke- 8\n",
      "[ 2.1361876  -0.55107623  0.2836317 ]\n",
      "Iterasi ke- 9\n",
      "[-1.3330125 -0.5919546  1.0675722]\n",
      "Iterasi ke- 10\n",
      "[ 0.0722611  -0.3819097   0.10598958]\n",
      "Iterasi ke- 11\n"
     ]
    }
   ],
   "source": [
    "r = tf.random_normal([10,3])\n",
    "dataset = tf.data.Dataset.from_tensor_slices(r)\n",
    "iterator = dataset.make_initializable_iterator()\n",
    "next_row = iterator.get_next()\n",
    "count=0\n",
    "sess.run(iterator.initializer)\n",
    "while True:\n",
    "  try:\n",
    "    count+=1\n",
    "    print('Iterasi ke-', count)\n",
    "    print(sess.run(next_row))\n",
    "  except tf.errors.OutOfRangeError:\n",
    "    break"
   ]
  },
  {
   "cell_type": "markdown",
   "metadata": {},
   "source": [
    "**Paham?** *ngga, ayo soal lagi*\n",
    "\n",
    "#### Latihan 3\n",
    "Fungsi nomor 2 di latihan 3 sebelumnya dibuat agar menghasilkan nilai dari array ``data_saya``"
   ]
  },
  {
   "cell_type": "code",
   "execution_count": 68,
   "metadata": {},
   "outputs": [
    {
     "name": "stdout",
     "output_type": "stream",
     "text": [
      "Iterasi ke- 0\n",
      "[ 0.74837923 -0.00823087  0.01664324]\n",
      "[-0.66666667  0.          0.        ]\n",
      "Iterasi ke- 1\n",
      "[-0.16231003  0.36854428 -1.2625291 ]\n",
      "[0. 0. 0.]\n",
      "Iterasi ke- 2\n",
      "[ 0.73194677  0.5600055  -0.11409552]\n",
      "[0. 0. 0.]\n",
      "Iterasi ke- 3\n",
      "[ 0.9383312   0.42495015 -0.72108394]\n",
      "[-0.33333333  0.          0.        ]\n",
      "Iterasi ke- 4\n",
      "[-1.3853357 -1.6577775 -1.0453415]\n",
      "[0. 0. 0.]\n",
      "Iterasi ke- 5\n"
     ]
    }
   ],
   "source": [
    "# Hint: Hanya operasi resultnya saja yang digunakan\n",
    "data_saya = [\n",
    "    [2, 49,],\n",
    "    [4, 78,],\n",
    "    [5, 6,],\n",
    "    [9, 12,],\n",
    "]\n",
    "slices = tf.data.Dataset.from_tensor_slices(data_saya)\n",
    "iterator = dataset.make_initializable_iterator()\n",
    "next_item = iterator.get_next()\n",
    "next_item_int = tf.cast(next_item, tf.int32)\n",
    "result = next_item_int/tf.size(next_item)\n",
    "count =0\n",
    "sess.run(iterator.initializer)\n",
    "while True:\n",
    "  try:\n",
    "    print('Iterasi ke-', count)\n",
    "    print(sess.run(next_item))\n",
    "    print(sess.run(result))\n",
    "    count+=1\n",
    "  except tf.errors.OutOfRangeError:\n",
    "    break"
   ]
  },
  {
   "cell_type": "markdown",
   "metadata": {},
   "source": [
    "### Layers\n",
    "*Finally, layers! but not in this discussion* \n",
    "\n",
    "**sorry!**"
   ]
  },
  {
   "cell_type": "code",
   "execution_count": null,
   "metadata": {},
   "outputs": [],
   "source": []
  }
 ],
 "metadata": {
  "kernelspec": {
   "display_name": "Python 3",
   "language": "python",
   "name": "python3"
  },
  "language_info": {
   "codemirror_mode": {
    "name": "ipython",
    "version": 3
   },
   "file_extension": ".py",
   "mimetype": "text/x-python",
   "name": "python",
   "nbconvert_exporter": "python",
   "pygments_lexer": "ipython3",
   "version": "3.6.1"
  }
 },
 "nbformat": 4,
 "nbformat_minor": 2
}
