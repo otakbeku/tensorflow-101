{
 "cells": [
  {
   "cell_type": "markdown",
   "metadata": {},
   "source": [
    "# Tensorflow 101: Introduction to low-level API\n",
    "\n",
    "*Prequisites*:\n",
    "1. Sudah menginstal tensorflow\n",
    "2. Minat dan semangat\n",
    "3. Sudah dengerin kami presentasi tentang pengantar dari tensorflow bagian pertama\n",
    "\n",
    "\n",
    "### Cek *dependencies*"
   ]
  },
  {
   "cell_type": "code",
   "execution_count": 1,
   "metadata": {},
   "outputs": [],
   "source": [
    "import tensorflow as tf\n",
    "import numpy as np"
   ]
  },
  {
   "cell_type": "code",
   "execution_count": 2,
   "metadata": {},
   "outputs": [
    {
     "data": {
      "text/plain": [
       "'1.11.0'"
      ]
     },
     "execution_count": 2,
     "metadata": {},
     "output_type": "execute_result"
    }
   ],
   "source": [
    "tf.__version__"
   ]
  },
  {
   "cell_type": "markdown",
   "metadata": {},
   "source": [
    "*seems okay*\n",
    "\n",
    "# Simple Computational Graph\n",
    "\n",
    "\n",
    "Membuat grafik penjumlahan. **ingat: build then running**. Pertama yang perlu dilakukan adalah membuat dahulu *computational graph*nya.\n",
    "\n",
    "Namun untuk kesempatan pertama ini, kita mencoba dengan menggunakan fungsi ``tf.constant`` untuk membuat konstanta.\n",
    "\n",
    "\n",
    "### tf.constant\n",
    "```\n",
    "tf.constant(\n",
    "    value,\n",
    "    dtype=None,\n",
    "    shape=None,\n",
    "    name='Const',\n",
    "    verify_shape=False\n",
    ")\n",
    "```\n",
    "\n",
    "\n",
    "Untuk membuat konstanta. Hasilnya adalah tensor dengan nilai yang sesuai dengan ``dtype`` dan bernilai sama dengan ``value`` dengan ukuran (opsional) dengan ``shape``\n",
    "\n",
    "[Dokumentasi dalam bentuk kode](https://github.com/tensorflow/tensorflow/blob/a6d8ffae097d0132989ae4688d224121ec6d8f35/tensorflow/python/framework/constant_op.py#L118)\n",
    "\n",
    "[Dokumentasi dari tf](https://www.tensorflow.org/api_docs/python/tf/constant)"
   ]
  },
  {
   "cell_type": "code",
   "execution_count": 3,
   "metadata": {},
   "outputs": [
    {
     "data": {
      "text/plain": [
       "{'_op': <tf.Operation 'Const' type=Const>,\n",
       " '_value_index': 0,\n",
       " '_dtype': tf.int32,\n",
       " '_shape_val': None,\n",
       " '_consumers': [],\n",
       " '_id': 1}"
      ]
     },
     "execution_count": 3,
     "metadata": {},
     "output_type": "execute_result"
    }
   ],
   "source": [
    "tensor = tf.constant([1, 2, 3, 4, 5, 6, 7])\n",
    "tensor.__dict__"
   ]
  },
  {
   "cell_type": "code",
   "execution_count": 4,
   "metadata": {},
   "outputs": [
    {
     "name": "stdout",
     "output_type": "stream",
     "text": [
      "Tensor(\"Const:0\", shape=(7,), dtype=int32)\n",
      "<class 'tensorflow.python.framework.ops.Tensor'>\n"
     ]
    }
   ],
   "source": [
    "print(tensor) # Tensor dengan konstanta nilai [1 2 3 4 5 6 7]\n",
    "print(type(tensor))"
   ]
  },
  {
   "cell_type": "markdown",
   "metadata": {},
   "source": [
    "Dari hasil cetak di atas tidak mengnampilkan nilai karena sebenarnya pada tf yang dibangung ada *computational graph*nya. Objek ``Tensor`` tersebut hanya merepresentasikan model yang sedang dirancang"
   ]
  },
  {
   "cell_type": "code",
   "execution_count": 5,
   "metadata": {},
   "outputs": [
    {
     "name": "stdout",
     "output_type": "stream",
     "text": [
      "Tensor(\"var_a:0\", shape=(2,), dtype=float32)\n"
     ]
    }
   ],
   "source": [
    "var_a = tf.constant([1.0,2.0], dtype=tf.float32, name='var_a')\n",
    "print(var_a)"
   ]
  },
  {
   "cell_type": "markdown",
   "metadata": {},
   "source": [
    "Oke, setelah paham dengan ``tf.constant`` maka selanjutnya kita bisa membuat *graph*nya\n",
    "\n",
    "## Build the graph"
   ]
  },
  {
   "cell_type": "code",
   "execution_count": 6,
   "metadata": {},
   "outputs": [
    {
     "name": "stdout",
     "output_type": "stream",
     "text": [
      "Tensor(\"Const_1:0\", shape=(), dtype=float32)\n",
      "Tensor(\"Const_2:0\", shape=(), dtype=float32)\n",
      "Tensor(\"add:0\", shape=(), dtype=float32)\n"
     ]
    }
   ],
   "source": [
    "a = tf.constant(5.0, dtype=tf.float32)\n",
    "b = tf.constant(9.0) # Secara tidak langsung punya tipe data yang sama\n",
    "total = a + b # tf bisa langsung dijumlah\n",
    "print(a)\n",
    "print(b)\n",
    "print(total)"
   ]
  },
  {
   "cell_type": "markdown",
   "metadata": {},
   "source": [
    "### Tensorboard\n",
    "\n",
    "Sebuah fungsi yang mempermudah pengguna untuk melihat graph yang telah dibuat.\n",
    "\n",
    "Untuk menjalankannya, ketik\n",
    "\n",
    "``` tensorboard --logdir .```\n",
    "\n",
    "pada terminal/cmd **setelah menjalankan potongan program dibawah**"
   ]
  },
  {
   "cell_type": "code",
   "execution_count": 7,
   "metadata": {},
   "outputs": [],
   "source": [
    "writer = tf.summary.FileWriter('.') # Nama berkas dapat diganti, \n",
    "# begitu juga dengan shell command-nya\n",
    "writer.add_graph(tf.get_default_graph())"
   ]
  },
  {
   "cell_type": "markdown",
   "metadata": {},
   "source": [
    "Buka ```localhost:6006``` (secara *default*) maka akan didapati gambar kurang lebih seperti ini:\n",
    "\n",
    "![sim_graph](sim_com_gr_tf.PNG \"sim graph\")\n",
    "\n",
    "\n",
    "## *Compile! (Run the graph)*"
   ]
  },
  {
   "cell_type": "code",
   "execution_count": 8,
   "metadata": {},
   "outputs": [
    {
     "name": "stdout",
     "output_type": "stream",
     "text": [
      "14.0\n"
     ]
    }
   ],
   "source": [
    "sess = tf.Session()\n",
    "print(sess.run(total))"
   ]
  },
  {
   "cell_type": "markdown",
   "metadata": {},
   "source": [
    "Pada saat dijalankan, semua ``tf.Tensor`` hanya memilki nilai tunggal (satu jenis nilai) meski telah menggunakan fungsi random. Sebagai contoh kita memanggil fungsi ``tf.random_uniform`` yang akan menghasil vektor dengan 5 elemen kemudian menjalakan *session*nya."
   ]
  },
  {
   "cell_type": "code",
   "execution_count": 9,
   "metadata": {},
   "outputs": [
    {
     "name": "stdout",
     "output_type": "stream",
     "text": [
      "[0.17893672 0.9285165  0.6016029  0.4783088  0.03498745]\n",
      "[0.15033066 0.12529778 0.33547032 0.58683026 0.12419474]\n",
      "(array([1.1877897, 1.9836812, 1.142723 , 1.3845692, 1.7159133],\n",
      "      dtype=float32), array([2.1877897, 2.9836812, 2.142723 , 2.3845692, 2.7159133],\n",
      "      dtype=float32), array([3.1877897, 3.9836812, 3.142723 , 3.3845692, 3.7159133],\n",
      "      dtype=float32))\n"
     ]
    }
   ],
   "source": [
    "vec = tf.random_uniform(shape=(5,))\n",
    "out1 = vec + 1\n",
    "out2 = vec + 2\n",
    "out3 = vec + 3\n",
    "print(sess.run(vec))\n",
    "print(sess.run(vec))\n",
    "print(sess.run((out1, out2, out3))) # single run"
   ]
  },
  {
   "cell_type": "markdown",
   "metadata": {},
   "source": [
    "Dari hasil diatas menunjukkan bahwa dalam *single run* nilai yang dihasilkan dari ``tf.random_uniform`` hanya memiliki satu jenis nilai.\n",
    "\n",
    "\n",
    "**Jadi ini aja?** *ngga*\n",
    "\n",
    "#### Latihan 1\n",
    "Kalau sudah paham dengan penggunaan konstanta tadi, coba kerjakan latihan berikut:\n",
    "1. Buat graph perkalian array/list\n",
    "2. Apa yang dilakukan oleh potongan script berikut? **Jangan dahulu dijalankan**\n",
    "\n",
    "```\n",
    "x = tf.constant([1, 2, 3])\n",
    "x_sum = tf.reduce_sum(x)\n",
    "result = x_sum/tf.size(x)\n",
    "```\n",
    "\n",
    "3. Jalankan program diatas untuk melihat hasilnya! *feel free*, buat ganti nilainya"
   ]
  },
  {
   "cell_type": "code",
   "execution_count": 10,
   "metadata": {},
   "outputs": [],
   "source": [
    "# Nomor 3 disini"
   ]
  },
  {
   "cell_type": "markdown",
   "metadata": {},
   "source": [
    "### *Feeding with tf.placeholder* (Ngasih makan; kurang lebih) \n",
    "\n",
    "Ngga cuma dengan konstanta aja, graph yang dirancang juga bisa menerima input menggunakan fungsi ``tf.placeholder``. Fungsi ini mirip dengan membuat fungsi pada python. Keterangannya sebagai berikut:\n",
    "\n",
    "Sebagai contoh:"
   ]
  },
  {
   "cell_type": "code",
   "execution_count": 11,
   "metadata": {},
   "outputs": [],
   "source": [
    "# Membut graph perkalian\n",
    "var_a = tf.placeholder(name='A', dtype=tf.float32)\n",
    "var_b = tf.placeholder(name='B', dtype=tf.float32)\n",
    "result = var_a*var_b"
   ]
  },
  {
   "cell_type": "markdown",
   "metadata": {},
   "source": [
    "Sekarang coba isi dengan nilai. Yang perlu diperhatikan, saat mengisi ``feed_dict``, nilai ``key`` yang ditulis adalah nama dari *placeholder*nya."
   ]
  },
  {
   "cell_type": "code",
   "execution_count": 12,
   "metadata": {},
   "outputs": [
    {
     "name": "stdout",
     "output_type": "stream",
     "text": [
      "20.0\n"
     ]
    }
   ],
   "source": [
    "print(sess.run(result, feed_dict={var_a: 4, var_b: 5}))"
   ]
  },
  {
   "cell_type": "code",
   "execution_count": 13,
   "metadata": {},
   "outputs": [
    {
     "name": "stdout",
     "output_type": "stream",
     "text": [
      "A:0\n",
      "B:0\n"
     ]
    }
   ],
   "source": [
    "# Cara lain. Cari tahu dahulu nama dari masing-masing placeholder\n",
    "print(var_a.name)\n",
    "print(var_b.name)"
   ]
  },
  {
   "cell_type": "code",
   "execution_count": 15,
   "metadata": {},
   "outputs": [
    {
     "name": "stdout",
     "output_type": "stream",
     "text": [
      "20.0\n"
     ]
    }
   ],
   "source": [
    "print(sess.run(result, feed_dict={sess.graph.get_tensor_by_name('A:0'): 4, \n",
    "                                  sess.graph.get_tensor_by_name('B:0'): 5}))"
   ]
  },
  {
   "cell_type": "code",
   "execution_count": 16,
   "metadata": {},
   "outputs": [
    {
     "name": "stdout",
     "output_type": "stream",
     "text": [
      "[  3.  12. 445.]\n"
     ]
    }
   ],
   "source": [
    "# Input array\n",
    "print(sess.run(result, feed_dict={var_a: [3, 4, 5], var_b: [1, 3, 89]}))"
   ]
  },
  {
   "cell_type": "markdown",
   "metadata": {},
   "source": [
    "**Paham?** *sekarang soal lagi*\n",
    "\n",
    "#### Latihan 2\n",
    "Fungsi nomor 1 & 2 di latihan sebelumnya dibuat agar dapat menerima input dari *user* menggunakan fungsi ``input()`` bawaan dari python!"
   ]
  },
  {
   "cell_type": "code",
   "execution_count": 17,
   "metadata": {},
   "outputs": [],
   "source": [
    "# Kerjakan disini!1!11!!!"
   ]
  },
  {
   "cell_type": "markdown",
   "metadata": {},
   "source": [
    "### Datasets\n",
    "\n",
    "Kalau tadi sudah paham dengan fungsi dari ``tf.placeholder`` untuk melakukan eksperimen, maka ada cara lain yang lebih 'dibenarkan' oleh *tensorflow* untuk melakukan *streaming data* ke graph.\n",
    "\n",
    "Langkah kerja dari *streaming data* menggunakan `tf.data`:\n",
    "1. Buat variabel *slices* atau iterator untuk memotong data\n",
    "2. Panggil iterator ke session\n",
    "3. Ketika sudah mencapai akhir dari baris, maka akan menghasilkan error. Oleh sebab itu harus menggunakan metode *try-catch-exception*\n",
    "4. Langkah 2-3 dilakukan dalam perulangan *while* (umumnya)"
   ]
  },
  {
   "cell_type": "code",
   "execution_count": 18,
   "metadata": {},
   "outputs": [
    {
     "name": "stdout",
     "output_type": "stream",
     "text": [
      "Iterasi ke- 0\n",
      "[ 2 49]\n",
      "Iterasi ke- 1\n",
      "[ 4 78]\n",
      "Iterasi ke- 2\n",
      "[5 6]\n",
      "Iterasi ke- 3\n",
      "[ 9 12]\n",
      "Iterasi ke- 4\n"
     ]
    }
   ],
   "source": [
    "data_saya = [\n",
    "    [2, 49,],\n",
    "    [4, 78,],\n",
    "    [5, 6,],\n",
    "    [9, 12,],\n",
    "]\n",
    "slices = tf.data.Dataset.from_tensor_slices(data_saya)\n",
    "next_item = slices.make_one_shot_iterator().get_next()\n",
    "count =0\n",
    "while True:\n",
    "  try:\n",
    "    print('Iterasi ke-', count)\n",
    "    print(sess.run(next_item))\n",
    "    count+=1\n",
    "  except tf.errors.OutOfRangeError:\n",
    "    break"
   ]
  },
  {
   "cell_type": "markdown",
   "metadata": {},
   "source": [
    "Contoh berikut ini jika dataset bergantung pada suatu *state* atau keadaan. Misal harus menghasilkan nilai random"
   ]
  },
  {
   "cell_type": "code",
   "execution_count": 19,
   "metadata": {},
   "outputs": [
    {
     "name": "stdout",
     "output_type": "stream",
     "text": [
      "Iterasi ke- 1\n",
      "[-0.54027236  0.65042603  0.6567037 ]\n",
      "Iterasi ke- 2\n",
      "[-1.2551336 -1.4917736  1.1707697]\n",
      "Iterasi ke- 3\n",
      "[0.8733775  0.34707755 0.07027091]\n",
      "Iterasi ke- 4\n",
      "[ 1.1168051  -0.59571296 -1.1088066 ]\n",
      "Iterasi ke- 5\n",
      "[-0.8761318  0.503862  -1.3557749]\n",
      "Iterasi ke- 6\n",
      "[-0.5658852 -0.4508208 -0.4148615]\n",
      "Iterasi ke- 7\n",
      "[ 1.1668557   1.44209    -0.06521785]\n",
      "Iterasi ke- 8\n",
      "[-0.0387431  -0.88227946  0.21499534]\n",
      "Iterasi ke- 9\n",
      "[ 0.06847714 -0.40781102 -1.2648095 ]\n",
      "Iterasi ke- 10\n",
      "[-0.01374114  0.3401839  -0.1934982 ]\n",
      "Iterasi ke- 11\n"
     ]
    }
   ],
   "source": [
    "r = tf.random_normal([10,3])\n",
    "dataset = tf.data.Dataset.from_tensor_slices(r)\n",
    "iterator = dataset.make_initializable_iterator()\n",
    "next_row = iterator.get_next()\n",
    "count=0\n",
    "sess.run(iterator.initializer)\n",
    "while True:\n",
    "  try:\n",
    "    count+=1\n",
    "    print('Iterasi ke-', count)\n",
    "    print(sess.run(next_row))\n",
    "  except tf.errors.OutOfRangeError:\n",
    "    break"
   ]
  },
  {
   "cell_type": "markdown",
   "metadata": {},
   "source": [
    "**Paham?** *ngga, ayo soal lagi*\n",
    "\n",
    "#### Latihan 3\n",
    "Fungsi nomor 2 di latihan 3 sebelumnya dibuat agar menghasilkan nilai dari array ``data_saya``"
   ]
  },
  {
   "cell_type": "code",
   "execution_count": 20,
   "metadata": {},
   "outputs": [
    {
     "name": "stdout",
     "output_type": "stream",
     "text": [
      "Iterasi ke- 0\n",
      "[-0.15253161  0.6167842  -1.9662676 ]\n",
      "[0. 0. 0.]\n",
      "Iterasi ke- 1\n",
      "[-0.42447257 -0.12695111 -1.8894917 ]\n",
      "[0.         0.         0.33333333]\n",
      "Iterasi ke- 2\n",
      "[-0.19169414 -1.7749436   1.4285809 ]\n",
      "[0. 0. 0.]\n",
      "Iterasi ke- 3\n",
      "[ 0.47504345 -1.1214664  -0.01972046]\n",
      "[0. 0. 0.]\n",
      "Iterasi ke- 4\n",
      "[-0.9895589  1.5724908 -0.9600632]\n",
      "[0.66666667 0.         0.        ]\n",
      "Iterasi ke- 5\n"
     ]
    }
   ],
   "source": [
    "# Hint: Hanya operasi resultnya saja yang digunakan\n",
    "data_saya = [\n",
    "    [2, 49,],\n",
    "    [4, 78,],\n",
    "    [5, 6,],\n",
    "    [9, 12,],\n",
    "]\n",
    "slices = tf.data.Dataset.from_tensor_slices(data_saya)\n",
    "iterator = dataset.make_initializable_iterator()\n",
    "next_item = iterator.get_next()\n",
    "next_item_int = tf.cast(next_item, tf.int32)\n",
    "result = next_item_int/tf.size(next_item)\n",
    "count =0\n",
    "sess.run(iterator.initializer)\n",
    "while True:\n",
    "  try:\n",
    "    print('Iterasi ke-', count)\n",
    "    print(sess.run(next_item))\n",
    "    print(sess.run(result))\n",
    "    count+=1\n",
    "  except tf.errors.OutOfRangeError:\n",
    "    break"
   ]
  },
  {
   "cell_type": "markdown",
   "metadata": {},
   "source": [
    "### Layers\n",
    "*Finally, layers! but not in this discussion* \n",
    "\n",
    "**sorry!**"
   ]
  }
 ],
 "metadata": {
  "kernelspec": {
   "display_name": "Python 3",
   "language": "python",
   "name": "python3"
  },
  "language_info": {
   "codemirror_mode": {
    "name": "ipython",
    "version": 3
   },
   "file_extension": ".py",
   "mimetype": "text/x-python",
   "name": "python",
   "nbconvert_exporter": "python",
   "pygments_lexer": "ipython3",
   "version": "3.6.1"
  }
 },
 "nbformat": 4,
 "nbformat_minor": 2
}
